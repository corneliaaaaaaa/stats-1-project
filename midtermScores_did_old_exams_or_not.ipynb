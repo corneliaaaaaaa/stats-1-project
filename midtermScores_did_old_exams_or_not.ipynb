{
 "cells": [
  {
   "cell_type": "markdown",
   "metadata": {},
   "source": [
    "### plotting 有&沒寫考古題者各自的期中考平均分數"
   ]
  },
  {
   "cell_type": "code",
   "execution_count": 8,
   "metadata": {},
   "outputs": [],
   "source": [
    "# 載入所需函示庫\n",
    "import seaborn as sns\n",
    "import pandas as pd\n",
    "import numpy as np\n",
    "import scipy.stats as stats\n",
    "import statsmodels.api as sm\n",
    "import statsmodels.stats.api as sms\n",
    "import statsmodels.formula.api as smf\n",
    "import statsmodels.stats.multicomp as smm\n",
    "import statsmodels\n",
    "\n",
    "from matplotlib import pyplot as plt\n",
    "%matplotlib inline\n",
    "# 設定圖形大小; DPI越大圖越大\n",
    "plt.rcParams[\"figure.dpi\"] = 150"
   ]
  },
  {
   "cell_type": "code",
   "execution_count": 9,
   "metadata": {},
   "outputs": [
    {
     "name": "stdout",
     "output_type": "stream",
     "text": [
      "head of 108 do the old exam or not before mid1:\n"
     ]
    },
    {
     "data": {
      "text/html": [
       "<div>\n",
       "<style scoped>\n",
       "    .dataframe tbody tr th:only-of-type {\n",
       "        vertical-align: middle;\n",
       "    }\n",
       "\n",
       "    .dataframe tbody tr th {\n",
       "        vertical-align: top;\n",
       "    }\n",
       "\n",
       "    .dataframe thead th {\n",
       "        text-align: right;\n",
       "    }\n",
       "</style>\n",
       "<table border=\"1\" class=\"dataframe\">\n",
       "  <thead>\n",
       "    <tr style=\"text-align: right;\">\n",
       "      <th></th>\n",
       "      <th>member_id</th>\n",
       "      <th>submission_id</th>\n",
       "    </tr>\n",
       "  </thead>\n",
       "  <tbody>\n",
       "    <tr>\n",
       "      <th>0</th>\n",
       "      <td>14</td>\n",
       "      <td>NaN</td>\n",
       "    </tr>\n",
       "    <tr>\n",
       "      <th>1</th>\n",
       "      <td>57</td>\n",
       "      <td>153780.0</td>\n",
       "    </tr>\n",
       "    <tr>\n",
       "      <th>2</th>\n",
       "      <td>75</td>\n",
       "      <td>153799.0</td>\n",
       "    </tr>\n",
       "    <tr>\n",
       "      <th>3</th>\n",
       "      <td>175</td>\n",
       "      <td>NaN</td>\n",
       "    </tr>\n",
       "    <tr>\n",
       "      <th>4</th>\n",
       "      <td>376</td>\n",
       "      <td>NaN</td>\n",
       "    </tr>\n",
       "  </tbody>\n",
       "</table>\n",
       "</div>"
      ],
      "text/plain": [
       "   member_id  submission_id\n",
       "0         14            NaN\n",
       "1         57       153780.0\n",
       "2         75       153799.0\n",
       "3        175            NaN\n",
       "4        376            NaN"
      ]
     },
     "metadata": {},
     "output_type": "display_data"
    }
   ],
   "source": [
    "# read dataset of doing the old exam or not\n",
    "df_108_old_exam_before_mid1 = pd.read_excel(\"PD108_OldExamOrNot.xlsx\")\n",
    "df_109_old_exam_before_mid1 = pd.read_excel(\"PD109_OldExamOrNot.xlsx\")\n",
    "df_108_old_exam_before_mid2 = pd.read_excel(\"PD108_OldExam2orNot.xlsx\")\n",
    "df_109_old_exam_before_mid2 = pd.read_excel(\"PD109_OldExam2orNot.xlsx\")\n",
    "\n",
    "print(\"head of 108 do the old exam or not before mid1:\")\n",
    "display(df_108_old_exam_before_mid1.head())"
   ]
  },
  {
   "cell_type": "markdown",
   "metadata": {},
   "source": [
    "### 分群：有寫考古題、沒寫考古題"
   ]
  },
  {
   "cell_type": "code",
   "execution_count": 10,
   "metadata": {},
   "outputs": [
    {
     "name": "stdout",
     "output_type": "stream",
     "text": [
      "108 - those who did the old exams before mid1:\n",
      "     member_id  submission_id\n",
      "1           57       153780.0\n",
      "2           75       153799.0\n",
      "10        1025       262423.0\n",
      "18        1272       154907.0\n",
      "19        1285       541693.0\n",
      "23        1376       155785.0\n",
      "39        1755       246078.0\n",
      "47        1870       255027.0\n",
      "48        1871       237954.0\n",
      "56        1879       255594.0\n",
      "60        1883       261151.0\n",
      "62        1887       260075.0\n",
      "64        1889       261985.0\n",
      "66        1891       262439.0\n",
      "70        1895       260070.0\n",
      "75        1900       246079.0\n",
      "76        1901       264091.0\n",
      "99        1956       262224.0\n",
      "102       1969       262424.0\n",
      "104       1972       262256.0\n",
      "108       1980       262206.0\n",
      "112       1985       262031.0\n",
      "113       1986       255569.0\n",
      "115       1989       288108.0\n",
      "117       1992       262292.0\n",
      "127       2014       262088.0\n"
     ]
    }
   ],
   "source": [
    "# separate those who did and not did the old exams before mid1\n",
    "df_108_old_exam_true_before_mid1 = df_108_old_exam_before_mid1[df_108_old_exam_before_mid1[\"submission_id\"].isnull() != True]\n",
    "df_108_old_exam_false_before_mid1 = df_108_old_exam_before_mid1[df_108_old_exam_before_mid1[\"submission_id\"].isnull() == True]\n",
    "df_109_old_exam_true_before_mid1 = df_109_old_exam_before_mid1[df_109_old_exam_before_mid1[\"submission_id\"].isnull() != True]\n",
    "df_109_old_exam_false_before_mid1 = df_109_old_exam_before_mid1[df_109_old_exam_before_mid1[\"submission_id\"].isnull() == True]\n",
    "\n",
    "# before mid2\n",
    "df_108_old_exam_true_before_mid2 = df_108_old_exam_before_mid2[df_108_old_exam_before_mid2[\"submission_id\"].isnull() != True]\n",
    "df_108_old_exam_false_before_mid2 = df_108_old_exam_before_mid2[df_108_old_exam_before_mid2[\"submission_id\"].isnull() == True]\n",
    "df_109_old_exam_true_before_mid2 = df_109_old_exam_before_mid2[df_109_old_exam_before_mid2[\"submission_id\"].isnull() != True]\n",
    "df_109_old_exam_false_before_mid2 = df_109_old_exam_before_mid2[df_109_old_exam_before_mid2[\"submission_id\"].isnull() == True]\n",
    "\n",
    "print(\"108 - those who did the old exams before mid1:\")\n",
    "print(df_108_old_exam_true_before_mid1)"
   ]
  },
  {
   "cell_type": "markdown",
   "metadata": {},
   "source": [
    "### 計算有寫考古題、沒寫考古題兩群各自的期中考平均分數"
   ]
  },
  {
   "cell_type": "code",
   "execution_count": 11,
   "metadata": {},
   "outputs": [
    {
     "name": "stdout",
     "output_type": "stream",
     "text": [
      "head of 108 midterm1 score:\n"
     ]
    },
    {
     "data": {
      "text/html": [
       "<div>\n",
       "<style scoped>\n",
       "    .dataframe tbody tr th:only-of-type {\n",
       "        vertical-align: middle;\n",
       "    }\n",
       "\n",
       "    .dataframe tbody tr th {\n",
       "        vertical-align: top;\n",
       "    }\n",
       "\n",
       "    .dataframe thead th {\n",
       "        text-align: right;\n",
       "    }\n",
       "</style>\n",
       "<table border=\"1\" class=\"dataframe\">\n",
       "  <thead>\n",
       "    <tr style=\"text-align: right;\">\n",
       "      <th></th>\n",
       "      <th>account_id</th>\n",
       "      <th>score</th>\n",
       "    </tr>\n",
       "  </thead>\n",
       "  <tbody>\n",
       "    <tr>\n",
       "      <th>0</th>\n",
       "      <td>1879</td>\n",
       "      <td>100.0</td>\n",
       "    </tr>\n",
       "    <tr>\n",
       "      <th>1</th>\n",
       "      <td>1914</td>\n",
       "      <td>100.0</td>\n",
       "    </tr>\n",
       "    <tr>\n",
       "      <th>2</th>\n",
       "      <td>1921</td>\n",
       "      <td>100.0</td>\n",
       "    </tr>\n",
       "    <tr>\n",
       "      <th>3</th>\n",
       "      <td>1980</td>\n",
       "      <td>100.0</td>\n",
       "    </tr>\n",
       "    <tr>\n",
       "      <th>4</th>\n",
       "      <td>1989</td>\n",
       "      <td>100.0</td>\n",
       "    </tr>\n",
       "  </tbody>\n",
       "</table>\n",
       "</div>"
      ],
      "text/plain": [
       "   account_id  score\n",
       "0        1879  100.0\n",
       "1        1914  100.0\n",
       "2        1921  100.0\n",
       "3        1980  100.0\n",
       "4        1989  100.0"
      ]
     },
     "metadata": {},
     "output_type": "display_data"
    }
   ],
   "source": [
    "# read dataset of midterm scores\n",
    "df_108_mid1 = pd.read_excel(\"PD108_midterm1_score.xlsx\")\n",
    "df_108_mid2 = pd.read_excel(\"PD108_midterm2_score.xlsx\")\n",
    "df_109_mid1 = pd.read_excel(\"PD109_midterm1_score.xlsx\")\n",
    "df_109_mid2 = pd.read_excel(\"PD109_midterm2_score.xlsx\")\n",
    "\n",
    "print(\"head of 108 midterm1 score:\")\n",
    "display(df_108_mid1.head())"
   ]
  },
  {
   "cell_type": "code",
   "execution_count": 12,
   "metadata": {},
   "outputs": [
    {
     "name": "stdout",
     "output_type": "stream",
     "text": [
      "108 mid1 without TAs:\n",
      "     account_id  score\n",
      "0          1879  100.0\n",
      "1          1914  100.0\n",
      "2          1921  100.0\n",
      "3          1980  100.0\n",
      "4          1989  100.0\n",
      "..          ...    ...\n",
      "148        1530    NaN\n",
      "149        1483    NaN\n",
      "150        1690    NaN\n",
      "151        2020    NaN\n",
      "152        1698    NaN\n",
      "\n",
      "[149 rows x 2 columns]\n"
     ]
    }
   ],
   "source": [
    "# remove TA's data\n",
    "TA_108 = [57, 75, 1285, 1758]\n",
    "TA_109 = [14, 175, 1758, 1767, 587, 590, 707]\n",
    "\n",
    "df_108_mid1 = df_108_mid1.drop(df_108_mid1[df_108_mid1[\"account_id\"].isin(TA_108)].index)\n",
    "df_108_mid2 = df_108_mid2.drop(df_108_mid2[df_108_mid2[\"account_id\"].isin(TA_108)].index)\n",
    "df_109_mid1 = df_109_mid1.drop(df_109_mid1[df_109_mid1[\"account_id\"].isin(TA_109)].index)\n",
    "df_109_mid2 = df_109_mid2.drop(df_109_mid2[df_109_mid2[\"account_id\"].isin(TA_109)].index)\n",
    "\n",
    "print(\"108 mid1 without TAs:\")\n",
    "print(df_108_mid1)"
   ]
  },
  {
   "cell_type": "code",
   "execution_count": 15,
   "metadata": {},
   "outputs": [
    {
     "name": "stdout",
     "output_type": "stream",
     "text": [
      "108 - mid1 scores of those who did the old exams before mid1:\n",
      "     account_id  score\n",
      "0          1879  100.0\n",
      "3          1980  100.0\n",
      "4          1989  100.0\n",
      "15         1871   98.0\n",
      "22         1889   96.0\n",
      "23         1755   94.0\n",
      "27         1870   94.0\n",
      "47         2014   82.0\n",
      "51         1901   78.0\n",
      "52         1891   78.0\n",
      "56         1895   76.0\n",
      "57         1986   74.0\n",
      "64         1956   70.0\n",
      "65         1969   70.0\n",
      "67         1025   68.0\n",
      "81         1887   60.0\n",
      "83         1883   58.0\n",
      "92         1972   46.0\n",
      "99         1900   40.0\n",
      "100        1272   38.0\n",
      "110        1985   34.0\n",
      "112        1376   32.0\n",
      "119        1992   22.0\n"
     ]
    }
   ],
   "source": [
    "# separate mid1 scores according to whether the member did the old exams or not\n",
    "scores_108_old_exam_true_before_mid1 = df_108_mid1[df_108_mid1[\"account_id\"].isin(df_108_old_exam_true_before_mid1[\"member_id\"])]\n",
    "scores_108_old_exam_false_before_mid1 = df_108_mid1[df_108_mid1[\"account_id\"].isin(df_108_old_exam_false_before_mid1[\"member_id\"])]\n",
    "scores_109_old_exam_true_before_mid1 = df_109_mid1[df_109_mid1[\"account_id\"].isin(df_109_old_exam_true_before_mid1[\"member_id\"])]\n",
    "scores_109_old_exam_false_before_mid1 = df_109_mid1[df_109_mid1[\"account_id\"].isin(df_109_old_exam_false_before_mid1[\"member_id\"])]\n",
    "\n",
    "# mid2\n",
    "scores_108_old_exam_true_before_mid2 = df_108_mid2[df_108_mid2[\"account_id\"].isin(df_108_old_exam_true_before_mid2[\"member_id\"])]\n",
    "scores_108_old_exam_false_before_mid2 = df_108_mid2[df_108_mid2[\"account_id\"].isin(df_108_old_exam_false_before_mid2[\"member_id\"])]\n",
    "scores_109_old_exam_true_before_mid2 = df_109_mid2[df_109_mid2[\"account_id\"].isin(df_109_old_exam_true_before_mid2[\"member_id\"])]\n",
    "scores_109_old_exam_false_before_mid2 = df_109_mid2[df_109_mid2[\"account_id\"].isin(df_109_old_exam_false_before_mid2[\"member_id\"])]\n",
    "\n",
    "print(\"108 - mid1 scores of those who did the old exams before mid1:\")\n",
    "print(scores_108_old_exam_true_before_mid1)"
   ]
  },
  {
   "cell_type": "code",
   "execution_count": 23,
   "metadata": {},
   "outputs": [
    {
     "name": "stdout",
     "output_type": "stream",
     "text": [
      "108 - average mid1 score of those who did the old exams before mid1: 69.91304347826087\n",
      "108 - average mid1 score of those who did not do the old exams before mid1: 62.94230769230769\n",
      "109 - average mid1 score of those who did the old exams before mid1: 86.14814814814815\n",
      "109 - average mid1 score of those who did not do the old exams before mid1: 70.6140350877193\n",
      "\n",
      "\n",
      "108 - average mid2 score of those who did the old exams before mid2: 62.642857142857146\n",
      "108 - average mid2 score of those who did not do the old exams before mid2: 59.45454545454545\n",
      "109 - average mid2 score of those who did the old exams before mid2: 53.391304347826086\n",
      "109 - average mid2 score of those who did not do the old exams before mid2: 55.48076923076923\n"
     ]
    }
   ],
   "source": [
    "# compute average mid1 score of each group\n",
    "avg_108_old_exam_true_before_mid1 = scores_108_old_exam_true_before_mid1[\"score\"].mean()\n",
    "avg_108_old_exam_false_before_mid1 = scores_108_old_exam_false_before_mid1[\"score\"].mean()\n",
    "avg_109_old_exam_true_before_mid1 = scores_109_old_exam_true_before_mid1[\"score\"].mean()\n",
    "avg_109_old_exam_false_before_mid1 = scores_109_old_exam_false_before_mid1[\"score\"].mean()\n",
    "\n",
    "# mid2\n",
    "avg_108_old_exam_true_before_mid2 = scores_108_old_exam_true_before_mid2[\"score\"].mean()\n",
    "avg_108_old_exam_false_before_mid2 = scores_108_old_exam_false_before_mid2[\"score\"].mean()\n",
    "avg_109_old_exam_true_before_mid2 = scores_109_old_exam_true_before_mid2[\"score\"].mean()\n",
    "avg_109_old_exam_false_before_mid2 = scores_109_old_exam_false_before_mid2[\"score\"].mean()\n",
    "\n",
    "\n",
    "print(\"108 - average mid1 score of those who did the old exams before mid1:\", avg_108_old_exam_true_before_mid1)\n",
    "print(\"108 - average mid1 score of those who did not do the old exams before mid1:\", avg_108_old_exam_false_before_mid1)\n",
    "print(\"109 - average mid1 score of those who did the old exams before mid1:\", avg_109_old_exam_true_before_mid1)\n",
    "print(\"109 - average mid1 score of those who did not do the old exams before mid1:\", avg_109_old_exam_false_before_mid1)\n",
    "print(\"\\n\")\n",
    "\n",
    "print(\"108 - average mid2 score of those who did the old exams before mid2:\", avg_108_old_exam_true_before_mid2)\n",
    "print(\"108 - average mid2 score of those who did not do the old exams before mid2:\", avg_108_old_exam_false_before_mid2)\n",
    "print(\"109 - average mid2 score of those who did the old exams before mid2:\", avg_109_old_exam_true_before_mid2)\n",
    "print(\"109 - average mid2 score of those who did not do the old exams before mid2:\", avg_109_old_exam_false_before_mid2)"
   ]
  }
 ],
 "metadata": {
  "kernelspec": {
   "display_name": "Python 3",
   "language": "python",
   "name": "python3"
  },
  "language_info": {
   "codemirror_mode": {
    "name": "ipython",
    "version": 3
   },
   "file_extension": ".py",
   "mimetype": "text/x-python",
   "name": "python",
   "nbconvert_exporter": "python",
   "pygments_lexer": "ipython3",
   "version": "3.8.5"
  }
 },
 "nbformat": 4,
 "nbformat_minor": 4
}
